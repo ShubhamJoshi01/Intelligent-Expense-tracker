{
 "cells": [
  {
   "cell_type": "code",
   "execution_count": 5,
   "id": "af1373b3-93ad-48b8-a709-f879dc0d3a72",
   "metadata": {},
   "outputs": [],
   "source": [
    "import mysql.connector"
   ]
  },
  {
   "cell_type": "code",
   "execution_count": 6,
   "id": "5f8cef8a-972d-4b03-be91-7ce363cbd9c9",
   "metadata": {},
   "outputs": [],
   "source": [
    "def record_transaction(userid, categoryid, amount, trans_type, date, paymentmethod):\n",
    "    conn = mysql.connector.connect(host='localhost', user='root', password='Shubham@01', database='expense_tracker')\n",
    "    cursor = conn.cursor()\n",
    "    query = \"INSERT INTO transaction (userid, categoryid, amount, type, date, paymentmethod) VALUES (%s, %s, %s, %s, %s, %s)\"\n",
    "    cursor.execute(query, (userid, categoryid, amount, trans_type, date, paymentmethod))\n",
    "    conn.commit()\n",
    "    cursor.close()\n",
    "    conn.close()"
   ]
  },
  {
   "cell_type": "code",
   "execution_count": 7,
   "id": "8a02a183-d84c-45b9-9e30-3e30be4fe09e",
   "metadata": {},
   "outputs": [],
   "source": [
    "def update_budget(budgetid, new_limitamount, new_status):\n",
    "    onn = mysql.connector.connect(host='localhost', user='root', password='Shubham@01', database='expense_tracker')\n",
    "    cursor = conn.cursor()\n",
    "    query = \"UPDATE budget SET limitamount = %s, status = %s WHERE budgetid = %s\"\n",
    "    cursor.execute(query, (new_limitamount, new_status, budgetid))\n",
    "    conn.commit()\n",
    "    cursor.close()\n",
    "    conn.close()"
   ]
  },
  {
   "cell_type": "code",
   "execution_count": 8,
   "id": "c0b50178-f8c6-4eea-9edc-d365c1098452",
   "metadata": {},
   "outputs": [],
   "source": [
    "def view_user_summary(userid):\n",
    "    onn = mysql.connector.connect(host='localhost', user='root', password='Shubham@01', database='expense_tracker')\n",
    "    cursor = conn.cursor()\n",
    "    query = \"\"\"\n",
    "      SELECT c.name as category, SUM(t.amount) as total \n",
    "      FROM transaction t\n",
    "      JOIN category c ON t.categoryid = c.categoryid\n",
    "      WHERE t.userid = %s\n",
    "      GROUP BY c.categoryid\n",
    "    \"\"\"\n",
    "    cursor.execute(query, (userid,))\n",
    "    results = cursor.fetchall()\n",
    "    cursor.close()\n",
    "    conn.close()\n",
    "    return results\n"
   ]
  },
  {
   "cell_type": "code",
   "execution_count": null,
   "id": "ee91382e-b43c-4142-b179-b44045478dd9",
   "metadata": {},
   "outputs": [],
   "source": []
  },
  {
   "cell_type": "code",
   "execution_count": null,
   "id": "19ba94e4-8390-4709-a3d7-343cb7355ea6",
   "metadata": {},
   "outputs": [],
   "source": []
  }
 ],
 "metadata": {
  "kernelspec": {
   "display_name": "Python (project_env1)",
   "language": "python",
   "name": "project_env"
  },
  "language_info": {
   "codemirror_mode": {
    "name": "ipython",
    "version": 3
   },
   "file_extension": ".py",
   "mimetype": "text/x-python",
   "name": "python",
   "nbconvert_exporter": "python",
   "pygments_lexer": "ipython3",
   "version": "3.13.0"
  }
 },
 "nbformat": 4,
 "nbformat_minor": 5
}
