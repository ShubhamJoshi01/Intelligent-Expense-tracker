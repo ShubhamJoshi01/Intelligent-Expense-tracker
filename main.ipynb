{
 "cells": [
  {
   "cell_type": "code",
   "execution_count": 8,
   "id": "42001620-df35-464d-aed7-a3b4482c1527",
   "metadata": {},
   "outputs": [
    {
     "name": "stdout",
     "output_type": "stream",
     "text": [
      "Collecting import-ipynb\n",
      "  Using cached import_ipynb-0.2-py3-none-any.whl.metadata (2.3 kB)\n",
      "Requirement already satisfied: IPython in c:\\pbl_dbms_project\\project_env\\lib\\site-packages (from import-ipynb) (9.6.0)\n",
      "Collecting nbformat (from import-ipynb)\n",
      "  Using cached nbformat-5.10.4-py3-none-any.whl.metadata (3.6 kB)\n",
      "Requirement already satisfied: colorama in c:\\pbl_dbms_project\\project_env\\lib\\site-packages (from IPython->import-ipynb) (0.4.6)\n",
      "Requirement already satisfied: decorator in c:\\pbl_dbms_project\\project_env\\lib\\site-packages (from IPython->import-ipynb) (5.2.1)\n",
      "Requirement already satisfied: ipython-pygments-lexers in c:\\pbl_dbms_project\\project_env\\lib\\site-packages (from IPython->import-ipynb) (1.1.1)\n",
      "Requirement already satisfied: jedi>=0.16 in c:\\pbl_dbms_project\\project_env\\lib\\site-packages (from IPython->import-ipynb) (0.19.2)\n",
      "Requirement already satisfied: matplotlib-inline in c:\\pbl_dbms_project\\project_env\\lib\\site-packages (from IPython->import-ipynb) (0.1.7)\n",
      "Requirement already satisfied: prompt_toolkit<3.1.0,>=3.0.41 in c:\\pbl_dbms_project\\project_env\\lib\\site-packages (from IPython->import-ipynb) (3.0.52)\n",
      "Requirement already satisfied: pygments>=2.4.0 in c:\\pbl_dbms_project\\project_env\\lib\\site-packages (from IPython->import-ipynb) (2.19.2)\n",
      "Requirement already satisfied: stack_data in c:\\pbl_dbms_project\\project_env\\lib\\site-packages (from IPython->import-ipynb) (0.6.3)\n",
      "Requirement already satisfied: traitlets>=5.13.0 in c:\\pbl_dbms_project\\project_env\\lib\\site-packages (from IPython->import-ipynb) (5.14.3)\n",
      "Collecting fastjsonschema>=2.15 (from nbformat->import-ipynb)\n",
      "  Downloading fastjsonschema-2.21.2-py3-none-any.whl.metadata (2.3 kB)\n",
      "Collecting jsonschema>=2.6 (from nbformat->import-ipynb)\n",
      "  Downloading jsonschema-4.25.1-py3-none-any.whl.metadata (7.6 kB)\n",
      "Requirement already satisfied: jupyter-core!=5.0.*,>=4.12 in c:\\pbl_dbms_project\\project_env\\lib\\site-packages (from nbformat->import-ipynb) (5.8.1)\n",
      "Requirement already satisfied: parso<0.9.0,>=0.8.4 in c:\\pbl_dbms_project\\project_env\\lib\\site-packages (from jedi>=0.16->IPython->import-ipynb) (0.8.5)\n",
      "Collecting attrs>=22.2.0 (from jsonschema>=2.6->nbformat->import-ipynb)\n",
      "  Downloading attrs-25.4.0-py3-none-any.whl.metadata (10 kB)\n",
      "Collecting jsonschema-specifications>=2023.03.6 (from jsonschema>=2.6->nbformat->import-ipynb)\n",
      "  Downloading jsonschema_specifications-2025.9.1-py3-none-any.whl.metadata (2.9 kB)\n",
      "Collecting referencing>=0.28.4 (from jsonschema>=2.6->nbformat->import-ipynb)\n",
      "  Downloading referencing-0.37.0-py3-none-any.whl.metadata (2.8 kB)\n",
      "Collecting rpds-py>=0.7.1 (from jsonschema>=2.6->nbformat->import-ipynb)\n",
      "  Downloading rpds_py-0.27.1-cp313-cp313-win_amd64.whl.metadata (4.3 kB)\n",
      "Requirement already satisfied: platformdirs>=2.5 in c:\\pbl_dbms_project\\project_env\\lib\\site-packages (from jupyter-core!=5.0.*,>=4.12->nbformat->import-ipynb) (4.5.0)\n",
      "Requirement already satisfied: pywin32>=300 in c:\\pbl_dbms_project\\project_env\\lib\\site-packages (from jupyter-core!=5.0.*,>=4.12->nbformat->import-ipynb) (311)\n",
      "Requirement already satisfied: wcwidth in c:\\pbl_dbms_project\\project_env\\lib\\site-packages (from prompt_toolkit<3.1.0,>=3.0.41->IPython->import-ipynb) (0.2.14)\n",
      "Requirement already satisfied: executing>=1.2.0 in c:\\pbl_dbms_project\\project_env\\lib\\site-packages (from stack_data->IPython->import-ipynb) (2.2.1)\n",
      "Requirement already satisfied: asttokens>=2.1.0 in c:\\pbl_dbms_project\\project_env\\lib\\site-packages (from stack_data->IPython->import-ipynb) (3.0.0)\n",
      "Requirement already satisfied: pure-eval in c:\\pbl_dbms_project\\project_env\\lib\\site-packages (from stack_data->IPython->import-ipynb) (0.2.3)\n",
      "Using cached import_ipynb-0.2-py3-none-any.whl (4.0 kB)\n",
      "Using cached nbformat-5.10.4-py3-none-any.whl (78 kB)\n",
      "Downloading fastjsonschema-2.21.2-py3-none-any.whl (24 kB)\n",
      "Downloading jsonschema-4.25.1-py3-none-any.whl (90 kB)\n",
      "Downloading attrs-25.4.0-py3-none-any.whl (67 kB)\n",
      "Downloading jsonschema_specifications-2025.9.1-py3-none-any.whl (18 kB)\n",
      "Downloading referencing-0.37.0-py3-none-any.whl (26 kB)\n",
      "Downloading rpds_py-0.27.1-cp313-cp313-win_amd64.whl (232 kB)\n",
      "Installing collected packages: fastjsonschema, rpds-py, attrs, referencing, jsonschema-specifications, jsonschema, nbformat, import-ipynb\n",
      "Successfully installed attrs-25.4.0 fastjsonschema-2.21.2 import-ipynb-0.2 jsonschema-4.25.1 jsonschema-specifications-2025.9.1 nbformat-5.10.4 referencing-0.37.0 rpds-py-0.27.1\n"
     ]
    },
    {
     "name": "stderr",
     "output_type": "stream",
     "text": [
      "\n",
      "[notice] A new release of pip is available: 24.2 -> 25.2\n",
      "[notice] To update, run: C:\\pbl_dbms_project\\project_env\\Scripts\\python.exe -m pip install --upgrade pip\n"
     ]
    }
   ],
   "source": [
    "import sys\n",
    "!{sys.executable} -m pip install import-ipynb"
   ]
  },
  {
   "cell_type": "code",
   "execution_count": 11,
   "id": "6244456b-3419-4e0e-9387-126547c5a65f",
   "metadata": {},
   "outputs": [],
   "source": [
    "import import_ipynb\n",
    "import database_operations\n",
    "# import ml_analytics         "
   ]
  },
  {
   "cell_type": "code",
   "execution_count": 12,
   "id": "6ff62c00-7750-4305-854f-71de5e300269",
   "metadata": {},
   "outputs": [
    {
     "ename": "ModuleNotFoundError",
     "evalue": "No module named 'your_ml_module'",
     "output_type": "error",
     "traceback": [
      "\u001b[31m---------------------------------------------------------------------------\u001b[39m",
      "\u001b[31mModuleNotFoundError\u001b[39m                       Traceback (most recent call last)",
      "\u001b[36mCell\u001b[39m\u001b[36m \u001b[39m\u001b[32mIn[12]\u001b[39m\u001b[32m, line 2\u001b[39m\n\u001b[32m      1\u001b[39m \u001b[38;5;28;01mfrom\u001b[39;00m\u001b[38;5;250m \u001b[39m\u001b[34;01mdatabase_operations\u001b[39;00m\u001b[38;5;250m \u001b[39m\u001b[38;5;28;01mimport\u001b[39;00m record_transaction, update_budget, view_user_summary\n\u001b[32m----> \u001b[39m\u001b[32m2\u001b[39m \u001b[38;5;28;01mfrom\u001b[39;00m\u001b[38;5;250m \u001b[39m\u001b[34;01mml_analytics\u001b[39;00m\u001b[38;5;250m \u001b[39m\u001b[38;5;28;01mimport\u001b[39;00m classify_expense\n\u001b[32m      4\u001b[39m \u001b[38;5;66;03m# Example usage for testing\u001b[39;00m\n\u001b[32m      5\u001b[39m record_transaction(\u001b[32m1\u001b[39m, \u001b[32m2\u001b[39m, \u001b[32m100\u001b[39m, \u001b[33m'\u001b[39m\u001b[33mdebit\u001b[39m\u001b[33m'\u001b[39m, \u001b[33m'\u001b[39m\u001b[33m2025-10-14\u001b[39m\u001b[33m'\u001b[39m, \u001b[32m1\u001b[39m)\n",
      "\u001b[36mFile \u001b[39m\u001b[32mC:\\pbl_dbms_project\\project_env\\Lib\\site-packages\\import_ipynb.py:64\u001b[39m, in \u001b[36mNotebookLoader.exec_module\u001b[39m\u001b[34m(self, mod)\u001b[39m\n\u001b[32m     60\u001b[39m             code = \u001b[38;5;28mself\u001b[39m.shell.input_transformer_manager.transform_cell(\n\u001b[32m     61\u001b[39m                 cell.source\n\u001b[32m     62\u001b[39m             )\n\u001b[32m     63\u001b[39m             \u001b[38;5;66;03m# run the code in themodule\u001b[39;00m\n\u001b[32m---> \u001b[39m\u001b[32m64\u001b[39m             \u001b[43mexec\u001b[49m\u001b[43m(\u001b[49m\u001b[43mcode\u001b[49m\u001b[43m,\u001b[49m\u001b[43m \u001b[49m\u001b[43mmod\u001b[49m\u001b[43m.\u001b[49m\u001b[34;43m__dict__\u001b[39;49m\u001b[43m)\u001b[49m\n\u001b[32m     65\u001b[39m \u001b[38;5;28;01mfinally\u001b[39;00m:\n\u001b[32m     66\u001b[39m     \u001b[38;5;28mself\u001b[39m.shell.user_ns = save_user_ns\n",
      "\u001b[36mFile \u001b[39m\u001b[32m<string>:1\u001b[39m\n",
      "\u001b[31mModuleNotFoundError\u001b[39m: No module named 'your_ml_module'"
     ]
    }
   ],
   "source": [
    "from database_operations import record_transaction, update_budget, view_user_summary\n",
    "from ml_analytics import classify_expense\n",
    "\n",
    "# Example usage for testing\n",
    "record_transaction(1, 2, 100, 'debit', '2025-10-14', 1)\n",
    "update_budget(1, 15000, 'active')\n",
    "summary = view_user_summary(1)\n",
    "ml_results = classify_expense(1)\n",
    "print(\"Summary:\", summary)\n",
    "print(\"ML Analytics:\", ml_results)"
   ]
  },
  {
   "cell_type": "code",
   "execution_count": null,
   "id": "9dc5c5b5-57c0-43a2-93b1-83f2a9da145a",
   "metadata": {},
   "outputs": [],
   "source": []
  }
 ],
 "metadata": {
  "kernelspec": {
   "display_name": "Python (project_env1)",
   "language": "python",
   "name": "project_env"
  },
  "language_info": {
   "codemirror_mode": {
    "name": "ipython",
    "version": 3
   },
   "file_extension": ".py",
   "mimetype": "text/x-python",
   "name": "python",
   "nbconvert_exporter": "python",
   "pygments_lexer": "ipython3",
   "version": "3.13.0"
  }
 },
 "nbformat": 4,
 "nbformat_minor": 5
}
