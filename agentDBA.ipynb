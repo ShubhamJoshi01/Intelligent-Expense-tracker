{
 "cells": [
  {
   "cell_type": "code",
   "execution_count": 2,
   "id": "b36727b8-aaa8-4a49-be16-5c969a771a89",
   "metadata": {},
   "outputs": [
    {
     "name": "stdout",
     "output_type": "stream",
     "text": [
      "Collecting mysql-connector-python\n",
      "  Using cached mysql_connector_python-9.4.0-cp313-cp313-win_amd64.whl.metadata (7.7 kB)\n",
      "Using cached mysql_connector_python-9.4.0-cp313-cp313-win_amd64.whl (16.4 MB)\n",
      "Installing collected packages: mysql-connector-python\n",
      "Successfully installed mysql-connector-python-9.4.0\n"
     ]
    }
   ],
   "source": [
    "!pip install mysql-connector-python"
   ]
  },
  {
   "cell_type": "code",
   "execution_count": 3,
   "id": "cd9bb4b0-7bc2-49ff-af40-4f0d2b1d4fc4",
   "metadata": {},
   "outputs": [
    {
     "data": {
      "text/plain": [
       "'C:\\\\pbl_dbms_project\\\\project_env\\\\Scripts\\\\python.exe'"
      ]
     },
     "execution_count": 3,
     "metadata": {},
     "output_type": "execute_result"
    }
   ],
   "source": [
    "import sys\n",
    "sys.executable"
   ]
  },
  {
   "cell_type": "code",
   "execution_count": 4,
   "id": "4607d462-ad1d-4628-b5d2-26ddf18b7776",
   "metadata": {},
   "outputs": [
    {
     "name": "stdout",
     "output_type": "stream",
     "text": [
      "Name: mysql-connector-python\n",
      "Version: 9.4.0\n",
      "Summary: A self-contained Python driver for communicating with MySQL servers, using an API that is compliant with the Python Database API Specification v2.0 (PEP 249).\n",
      "Home-page: https://dev.mysql.com/doc/connector-python/en/\n",
      "Author: Oracle and/or its affiliates\n",
      "Author-email: \n",
      "License: GNU GPLv2 (with FOSS License Exception)\n",
      "Location: C:\\pbl_dbms_project\\project_env\\Lib\\site-packages\n",
      "Requires: \n",
      "Required-by: \n",
      "Note: you may need to restart the kernel to use updated packages.\n"
     ]
    }
   ],
   "source": [
    "pip show mysql-connector-python"
   ]
  },
  {
   "cell_type": "code",
   "execution_count": null,
   "id": "00e1a2c1-d731-4057-b789-808aecf16be5",
   "metadata": {},
   "outputs": [],
   "source": [
    "import mysql.connector\n",
    "import json\n",
    "import subprocess\n",
    "conn = mysql.connector.connect(\n",
    "        host=\"localhost\",\n",
    "        user=\"root\",\n",
    "        password=\"Shubham@01\",\n",
    "        database=\"expense_tracker \"\n",
    "    )\n",
    "cursor = conn.cursor()\n",
    "def get_table_schema(table_name):\n",
    "\n",
    "    cursor.execute(f\"DESCRIBE {table_name}\")\n",
    "    rows = cursor.fetchall()\n",
    "\n",
    "    # Convert to structured dict\n",
    "    schema = []\n",
    "    for row in rows:\n",
    "        schema.append({\n",
    "            \"field\": row[0],\n",
    "            \"type\": row[1],\n",
    "            \"null\": row[2],\n",
    "            \"key\": row[3],\n",
    "            \"default\": row[4],\n",
    "            \"extra\": row[5]\n",
    "        })\n",
    "\n",
    "    return json.dumps({table_name: schema}, indent=4)\n",
    "\n",
    "\n",
    "def ask_agent(prompt):\n",
    "    result = subprocess.run(\n",
    "        [\"ollama\", \"run\", \"llama3\"],\n",
    "         input=prompt.encode(\"utf-8\"),\n",
    "        capture_output=True\n",
    "        \n",
    "        )\n",
    "    return result.stdout.decode(\"utf-8\").strip()\n",
    "schema=get_table_schema('transaction')\n",
    "print(schema)\n",
    "def chatbot():\n",
    "\n",
    "    print(\"Bot: Hello! I will only decide if SQL can be generated or if I need to ask questions. (DB connected)\")\n",
    "\n",
    "    while True:\n",
    "        user = input(\"You: \")\n",
    "        if user.lower() in [\"exit\", \"quit\"]:\n",
    "            print(\"Bot: Goodbye!\")\n",
    "            conn.close()\n",
    "            break\n",
    "\n",
    "        prompt = f\"\"\"\n",
    "        You are a SQL assistant. You know this schema:\n",
    "        {schema}\n",
    "\n",
    "        Rules:\n",
    "        1. If the user’s request is clear and enough info is available, output ONLY a valid SQL query.\n",
    "        2. If something is missing (like table name, column names, or values), do not guess. \n",
    "           Instead, ask the user for clarification in plain English.\n",
    "        3. Do not add explanations just SQL query or a clarification question.\n",
    "        4. if someone ask for create table ask details and schema \n",
    "\n",
    "        User: {user}\n",
    "        \"\"\"\n",
    "        reply = ask_agent(prompt)\n",
    "        print(\"Bot:\", reply)\n",
    "        if reply.strip().lower().startswith((\"select\", \"create\", \"insert\", \"update\", \"delete\")):\n",
    "            try:\n",
    "                cursor.execute(reply)\n",
    "                rows = cursor.fetchall()\n",
    "                if rows:\n",
    "                    print(\"Bot: Query Result →\", rows)\n",
    "                else:\n",
    "                    print(\"Bot: Query executed successfully.\")\n",
    "                conn.commit()\n",
    "            except Exception as e:\n",
    "                print(\"Bot: SQL error →\", e)\n",
    "\n",
    "    conn.close()\n",
    "\n",
    "if __name__ == \"__main__\":\n",
    "    chatbot()"
   ]
  },
  {
   "cell_type": "code",
   "execution_count": 41,
   "id": "f6f2c4ee-a407-452d-b8f5-350b0ac6af89",
   "metadata": {},
   "outputs": [],
   "source": [
    "#ive refine it using ai and also add context memroy to it "
   ]
  },
  {
   "cell_type": "code",
   "execution_count": 23,
   "id": "f6a7a68f-f3a7-4d6d-8c22-b47aa6225574",
   "metadata": {},
   "outputs": [],
   "source": [
    "import subprocess\n",
    "import mysql.connector\n",
    "import json\n",
    "import datetime\n",
    "\n",
    "MAX_CONTEXT_CHARS = 3000  # limit to avoid exceeding LLM context window\n",
    "\n",
    "# ------------------------\n",
    "# LLM wrapper\n",
    "# ------------------------\n",
    "def ask_agent(prompt):\n",
    "    result = subprocess.run(\n",
    "        [\"ollama\", \"run\", \"llama3\"],\n",
    "        input=prompt.encode(\"utf-8\"),\n",
    "        capture_output=True\n",
    "    )\n",
    "    return result.stdout.decode(\"utf-8\").strip()\n",
    "\n",
    "# ------------------------\n",
    "# Safe serialization (fix for date/datetime)\n",
    "# ------------------------\n",
    "def serialize_value(val):\n",
    "    if isinstance(val, (datetime.date, datetime.datetime)):\n",
    "        return val.isoformat()\n",
    "    return val\n",
    "\n",
    "# ------------------------\n",
    "# Fetch schema for table\n",
    "# ------------------------\n",
    "def get_table_schema(table_name, cursor):\n",
    "    cursor.execute(f\"DESCRIBE {table_name}\")\n",
    "    rows = cursor.fetchall()\n",
    "    schema = []\n",
    "    for row in rows:\n",
    "        schema.append({\n",
    "            \"field\": row[0],\n",
    "            \"type\": row[1],\n",
    "            \"null\": row[2],\n",
    "            \"key\": row[3],\n",
    "            \"default\": row[4],\n",
    "            \"extra\": row[5]\n",
    "        })\n",
    "    return {table_name: schema}\n",
    "\n",
    "# ------------------------\n",
    "# Chatbot with memory\n",
    "# ------------------------\n",
    "def chatbot():\n",
    "    conn = mysql.connector.connect(\n",
    "        host=\"localhost\",\n",
    "        user=\"root\",\n",
    "        password=\"root1234\",\n",
    "        database=\"demo\"\n",
    "    )\n",
    "    cursor = conn.cursor()\n",
    "\n",
    "    schema = get_table_schema(\"transactions\", cursor)\n",
    "    history = []\n",
    "\n",
    "    print(\"Bot: Hello! I remember context but will trim it if it gets too long. (DB connected)\")\n",
    "\n",
    "    while True:\n",
    "        user = input(\"You: \")\n",
    "        if user.lower() in [\"exit\", \"quit\"]:\n",
    "            print(\"Bot: Goodbye!\")\n",
    "            break\n",
    "\n",
    "        history.append(f\"User: {user}\")\n",
    "\n",
    "        context = \"\\n\".join(history)\n",
    "        if len(context) > MAX_CONTEXT_CHARS:\n",
    "            while len(context) > MAX_CONTEXT_CHARS and len(history) > 1:\n",
    "                history.pop(0)\n",
    "                context = \"\\n\".join(history)\n",
    "\n",
    "        # 🔹 Refined Prompt\n",
    "        prompt = f\"\"\"\n",
    "        You are a SQL assistant which is connected to database sever  and user you can only return 1 thing at time whether a message or a query dont mix both . You know this schema:\n",
    "        {schema}\n",
    "\n",
    "        Rules:\n",
    "        1. If the user’s request is clear and enough info is available, output ONLY a valid SQL query no additional text.\n",
    "        2. If something is missing (like table name, column names, or values), do not guess. \n",
    "           Instead, ask the user for clarification in plain English.\n",
    "        3. Do not add explanations, just SQL query or a clarification question.\n",
    "        4. If someone asks to create a table, request table name and schema details first.\n",
    "        5. do not use (SQL + Text) then system will fail.\n",
    "        6.whether you can return a text or a sql query dont mix.\n",
    "\n",
    "        User: {user}\n",
    "        \"\"\"\n",
    "\n",
    "        reply = ask_agent(prompt).strip()\n",
    "        print(\"Bot:\", reply)\n",
    "        history.append(f\"Bot: {reply}\")\n",
    "\n",
    "        if reply.lower().startswith((\"select\", \"create\", \"insert\", \"update\", \"delete\",\"where\")):\n",
    "            try:\n",
    "                cursor.execute(reply)\n",
    "\n",
    "                if reply.lower():\n",
    "                    rows = cursor.fetchall()\n",
    "                    col_names = [desc[0] for desc in cursor.description]\n",
    "                    result_json = [dict(zip(col_names, [serialize_value(v) for v in row])) for row in rows]\n",
    "\n",
    "                    analysis_prompt = f\"\"\"\n",
    "                    You are an assistant analyzing SQL query results.\n",
    "\n",
    "                    User asked: \"{user}\"\n",
    "                    Query executed: {reply}\n",
    "                    Query result (JSON): {json.dumps(result_json, indent=2)}\n",
    "\n",
    "                    Based on this, answer the user clearly in natural language. Be concise.\n",
    "                    \"\"\"\n",
    "                    analysis = ask_agent(analysis_prompt)\n",
    "                    print(\"Bot:\", analysis)\n",
    "                    history.append(f\"Bot: {analysis}\")\n",
    "\n",
    "                else:\n",
    "                    conn.commit()\n",
    "                    print(\"Bot: Query executed successfully.\")\n",
    "\n",
    "            except Exception as e:\n",
    "                print(\"Bot: SQL error →\", e)\n",
    "\n",
    "                # 🔹 Retry: ask LLM to fix\n",
    "                error_prompt = f\"\"\"\n",
    "                The query failed with error: {str(e)}.\n",
    "                User question: \"{user}\"\n",
    "                SQL attempted: {reply}\n",
    "                Suggest a corrected SQL query.\n",
    "                \"\"\"\n",
    "                fixed_sql = ask_agent(error_prompt)\n",
    "                print(\"Bot (retrying):\", fixed_sql)\n",
    "\n",
    "    conn.close()\n"
   ]
  },
  {
   "cell_type": "code",
   "execution_count": null,
   "id": "3718a1ac-4522-4877-8358-195d11d2b012",
   "metadata": {},
   "outputs": [
    {
     "name": "stdout",
     "output_type": "stream",
     "text": [
      "Bot: Hello! I remember context but will trim it if it gets too long. (DB connected)\n"
     ]
    },
    {
     "name": "stdin",
     "output_type": "stream",
     "text": [
      "You:  hey\n"
     ]
    },
    {
     "name": "stdout",
     "output_type": "stream",
     "text": [
      "Bot: What would you like to do? Create a table, query existing data, or something else?\n"
     ]
    },
    {
     "name": "stdin",
     "output_type": "stream",
     "text": [
      "You:  on 2025-11-09  bike ride at maldevta  spend 100  category  6 ( add it to expense)\n"
     ]
    },
    {
     "name": "stdout",
     "output_type": "stream",
     "text": [
      "Bot: INSERT INTO transactions (date, amount, description, transaction_type, category_id) VALUES ('2025-11-09', '100.00', 'bike ride at Maldevta', 'EXPENSE', '6');\n",
      "Bot: SQL error → 'NoneType' object is not iterable\n",
      "Bot (retrying): The error message is indicating that one of the values being inserted into the database (in this case, the `date` value) is None, which cannot be iterated over. \n",
      "\n",
      "Based on your given question and SQL attempted, it seems like the issue might be with the date formatting. Python's datetime module doesn't accept dates in the 'yyyy-mm-dd' format directly.\n",
      "\n",
      "Here's a corrected SQL query:\n",
      "\n",
      "```\n",
      "import datetime\n",
      "\n",
      "date = datetime.datetime.strptime('2025-11-09', '%Y-%m-%d').date()\n",
      "SQL attempted: INSERT INTO transactions (transaction_date, amount, description, transaction_type, category_id) VALUES (DATE(date), '100.00', 'bike ride at Maldevta', 'EXPENSE', '6');\n",
      "```\n",
      "\n",
      "This query will convert the given date string into a datetime object and then extract just the date part. The SQL query itself should be something like this:\n",
      "\n",
      "```\n",
      "INSERT INTO transactions (transaction_date, amount, description, transaction_type, category_id) VALUES ('2025-11-09', 100.00, 'bike ride at Maldevta', 'EXPENSE', '6');\n",
      "```\n"
     ]
    },
    {
     "name": "stdin",
     "output_type": "stream",
     "text": [
      "You:  pls re add it\n"
     ]
    },
    {
     "name": "stdout",
     "output_type": "stream",
     "text": [
      "Bot: Please provide more information about what you would like to do with the \"transactions\" table. For example, would you like to insert, update, delete, or select data? If you have specific values in mind, please provide them as well.\n"
     ]
    }
   ],
   "source": [
    "if __name__ == \"__main__\":\n",
    "    chatbot()"
   ]
  },
  {
   "cell_type": "code",
   "execution_count": null,
   "id": "722f7782-5e07-4259-95ca-aaf3413ee258",
   "metadata": {},
   "outputs": [],
   "source": []
  }
 ],
 "metadata": {
  "kernelspec": {
   "display_name": "Python (project_env1)",
   "language": "python",
   "name": "project_env"
  },
  "language_info": {
   "codemirror_mode": {
    "name": "ipython",
    "version": 3
   },
   "file_extension": ".py",
   "mimetype": "text/x-python",
   "name": "python",
   "nbconvert_exporter": "python",
   "pygments_lexer": "ipython3",
   "version": "3.13.0"
  }
 },
 "nbformat": 4,
 "nbformat_minor": 5
}
